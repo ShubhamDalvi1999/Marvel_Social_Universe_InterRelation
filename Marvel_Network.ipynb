{
 "cells": [
  {
   "cell_type": "code",
   "execution_count": 1,
   "id": "ce74492c-e272-41fc-a346-869d49752f8d",
   "metadata": {},
   "outputs": [],
   "source": [
    "import findspark\n",
    "findspark.init()"
   ]
  },
  {
   "cell_type": "code",
   "execution_count": 2,
   "id": "083d0a89-4744-458a-b87c-2ab58da5a97e",
   "metadata": {},
   "outputs": [],
   "source": [
    "from pyspark.sql import SparkSession\n",
    "\n",
    "sc= SparkSession.builder.appName(\"Marver_Network\").getOrCreate()\n",
    "\n",
    "bookdf = sc.read.option(\"header\",\"true\").option(\"inferSchema\",\"true\").text(\"Books.txt\")\n",
    "characterdf = sc.read.option(\"header\",\"true\").option(\"inferSchema\",\"true\").text(\"Characters.txt\")\n",
    "edgesdf = sc.read.option(\"header\",\"true\").option(\"inferSchema\",\"true\").text(\"Edges.txt\")"
   ]
  },
  {
   "cell_type": "code",
   "execution_count": 3,
   "id": "e904813a-6129-481b-b1e7-15d98eff1fbc",
   "metadata": {},
   "outputs": [
    {
     "data": {
      "text/plain": [
       "[Row(value='Vertex 6487: AA2 35'),\n",
       " Row(value='Vertex 6488: M/PRM 35'),\n",
       " Row(value='Vertex 6489: M/PRM 36'),\n",
       " Row(value='Vertex 6490: M/PRM 37'),\n",
       " Row(value='Vertex 6491: WI? 9'),\n",
       " Row(value='Vertex 6492: AVF 4'),\n",
       " Row(value='Vertex 6493: AVF 5'),\n",
       " Row(value='Vertex 6494: H2 251'),\n",
       " Row(value='Vertex 6495: H2 252'),\n",
       " Row(value='Vertex 6496: COC 1')]"
      ]
     },
     "execution_count": 3,
     "metadata": {},
     "output_type": "execute_result"
    }
   ],
   "source": [
    "bookdf.take(10)"
   ]
  },
  {
   "cell_type": "code",
   "execution_count": 4,
   "id": "4b48ef1c-22d7-4462-81e5-74f9baf6a358",
   "metadata": {},
   "outputs": [
    {
     "data": {
      "text/plain": [
       "[Row(value='Vertex 1: 24-HOUR MAN/EMMANUEL'),\n",
       " Row(value='Vertex 2: 3-D MAN/CHARLES CHANDLER & HAROLD CHANDLER'),\n",
       " Row(value='Vertex 3: 4-D MAN/MERCURIO'),\n",
       " Row(value='Vertex 4: 8-BALL/'),\n",
       " Row(value='Vertex 5: A'),\n",
       " Row(value=\"Vertex 6: A'YIN\"),\n",
       " Row(value='Vertex 7: ABBOTT, JACK'),\n",
       " Row(value='Vertex 8: ABCISSA'),\n",
       " Row(value='Vertex 9: ABEL'),\n",
       " Row(value='Vertex 10: ABOMINATION/EMIL BLONSKY')]"
      ]
     },
     "execution_count": 4,
     "metadata": {},
     "output_type": "execute_result"
    }
   ],
   "source": [
    "characterdf.take(10)"
   ]
  },
  {
   "cell_type": "code",
   "execution_count": 5,
   "id": "247a87d4-ce2c-40a5-b5d7-09f6f9a9c0fc",
   "metadata": {},
   "outputs": [
    {
     "data": {
      "text/plain": [
       "[Row(value='*Vertices 19428 6486'),\n",
       " Row(value='1 \"24-HOUR MAN/EMMANUEL\"'),\n",
       " Row(value='2 \"3-D MAN/CHARLES CHAN\"'),\n",
       " Row(value='3 \"4-D MAN/MERCURIO\"'),\n",
       " Row(value='4 \"8-BALL/\"'),\n",
       " Row(value='5 \"A\"'),\n",
       " Row(value='6 \"A\\'YIN\"'),\n",
       " Row(value='7 \"ABBOTT, JACK\"'),\n",
       " Row(value='8 \"ABCISSA\"'),\n",
       " Row(value='9 \"ABEL\"'),\n",
       " Row(value='10 \"ABOMINATION/EMIL BLO\"'),\n",
       " Row(value='11 \"ABOMINATION | MUTANT\"'),\n",
       " Row(value='12 \"ABOMINATRIX\"'),\n",
       " Row(value='13 \"ABRAXAS\"'),\n",
       " Row(value='14 \"ADAM 3,031\"')]"
      ]
     },
     "execution_count": 5,
     "metadata": {},
     "output_type": "execute_result"
    }
   ],
   "source": [
    "edgesdf.take(15)"
   ]
  },
  {
   "cell_type": "markdown",
   "id": "df566745-c19f-494d-8774-ad504af03050",
   "metadata": {},
   "source": [
    "**Cleaning and Transforming Edges.txt file**"
   ]
  },
  {
   "cell_type": "code",
   "execution_count": 6,
   "id": "44feb8cb-0480-4c03-9ca3-1e0b1ebe23ec",
   "metadata": {},
   "outputs": [],
   "source": [
    "from pyspark.sql.functions import udf\n",
    "from pyspark.sql.types import BooleanType\n",
    "\n",
    "def edgeFilter(row):\n",
    "    if ('*' in row) or ('\"' in row):\n",
    "        return False\n",
    "    else:\n",
    "        return True\n",
    "\n",
    "udf_edgeFilter = udf(edgeFilter, BooleanType())\n",
    "\n",
    "edge_cleaned = edgesdf.filter(udf_edgeFilter(edgesdf[\"value\"]))"
   ]
  },
  {
   "cell_type": "code",
   "execution_count": 7,
   "id": "d37bb260-4298-4eae-944f-74dc5057cd8d",
   "metadata": {},
   "outputs": [
    {
     "data": {
      "text/plain": [
       "[Row(value='1 6487'),\n",
       " Row(value='2 6488 6489 6490 6491 6492 6493 6494 6495 6496'),\n",
       " Row(value='3 6497 6498 6499 6500 6501 6502 6503 6504 6505'),\n",
       " Row(value='4 6506 6507 6508'),\n",
       " Row(value='5 6509 6510 6511'),\n",
       " Row(value='6 6512 6513 6514 6515'),\n",
       " Row(value='7 6516'),\n",
       " Row(value='8 6517 6518'),\n",
       " Row(value='9 6519 6520'),\n",
       " Row(value='10 6521 6522 6523 6524 6525 6526 6527 6528 6529 6530 6531 6532 6533 6534 6535')]"
      ]
     },
     "execution_count": 7,
     "metadata": {},
     "output_type": "execute_result"
    }
   ],
   "source": [
    "edge_cleaned.take(10)"
   ]
  },
  {
   "cell_type": "markdown",
   "id": "e29ec50d-3f58-4720-abcb-36f2400dfd7b",
   "metadata": {},
   "source": [
    "**Coverting string rows into key value pair using Df to RDD and vice-versa conversion**"
   ]
  },
  {
   "cell_type": "code",
   "execution_count": 14,
   "id": "effdf721-cdef-4ac0-ad96-80691a26f9b7",
   "metadata": {},
   "outputs": [],
   "source": [
    "edge_maped_charactr = edge_cleaned.rdd.map(lambda x:x[0].split(\" \")).map(lambda x : (x[0], x[1:]) )\n",
    "\n",
    "# here x[0] is bit tricky, if not used it will throw an error when calling collect on the rdd\n",
    "# as we did not specify which  column to split"
   ]
  },
  {
   "cell_type": "code",
   "execution_count": 9,
   "id": "646b6b0b-40d9-40ce-843e-bff11fe7f268",
   "metadata": {},
   "outputs": [
    {
     "data": {
      "text/plain": [
       "PythonRDD[23] at RDD at PythonRDD.scala:53"
      ]
     },
     "execution_count": 9,
     "metadata": {},
     "output_type": "execute_result"
    }
   ],
   "source": [
    "edge_maped_charactr"
   ]
  },
  {
   "cell_type": "code",
   "execution_count": 11,
   "id": "5da39bab-43e7-4ef3-aeb1-6996e9b48c7d",
   "metadata": {},
   "outputs": [],
   "source": [
    "edgeColumns = [\"character_name\",\"books_appeared_in\"]\n",
    "edge_map_ctr_df=edge_maped_charactr.toDF(edgeColumns)"
   ]
  },
  {
   "cell_type": "code",
   "execution_count": 12,
   "id": "b0cd2208-ae3f-43d1-9225-7a5eb56146fb",
   "metadata": {},
   "outputs": [
    {
     "name": "stdout",
     "output_type": "stream",
     "text": [
      "root\n",
      " |-- character_name: string (nullable = true)\n",
      " |-- books_appeared_in: array (nullable = true)\n",
      " |    |-- element: string (containsNull = true)\n",
      "\n"
     ]
    }
   ],
   "source": [
    "edge_map_ctr_df.printSchema()"
   ]
  },
  {
   "cell_type": "code",
   "execution_count": 13,
   "id": "3cf7cb29-da1a-4ab4-a5ab-9c4ad5a32ac1",
   "metadata": {},
   "outputs": [
    {
     "data": {
      "text/plain": [
       "[Row(character_name='1', books_appeared_in=['6487']),\n",
       " Row(character_name='2', books_appeared_in=['6488', '6489', '6490', '6491', '6492', '6493', '6494', '6495', '6496']),\n",
       " Row(character_name='3', books_appeared_in=['6497', '6498', '6499', '6500', '6501', '6502', '6503', '6504', '6505']),\n",
       " Row(character_name='4', books_appeared_in=['6506', '6507', '6508']),\n",
       " Row(character_name='5', books_appeared_in=['6509', '6510', '6511']),\n",
       " Row(character_name='6', books_appeared_in=['6512', '6513', '6514', '6515']),\n",
       " Row(character_name='7', books_appeared_in=['6516']),\n",
       " Row(character_name='8', books_appeared_in=['6517', '6518']),\n",
       " Row(character_name='9', books_appeared_in=['6519', '6520']),\n",
       " Row(character_name='10', books_appeared_in=['6521', '6522', '6523', '6524', '6525', '6526', '6527', '6528', '6529', '6530', '6531', '6532', '6533', '6534', '6535'])]"
      ]
     },
     "execution_count": 13,
     "metadata": {},
     "output_type": "execute_result"
    }
   ],
   "source": [
    "edge_map_ctr_df.take(10)"
   ]
  },
  {
   "cell_type": "code",
   "execution_count": 18,
   "id": "7437fea2-64ed-43ab-b5b8-e992341b521d",
   "metadata": {},
   "outputs": [],
   "source": [
    "edge_map_ctr_df.write.format(\"json\").save(\"Edge_Transform.json\")\n"
   ]
  },
  {
   "cell_type": "markdown",
   "id": "803b9e20-d7e0-4416-91f5-2a6355e7c90e",
   "metadata": {},
   "source": [
    "**Cleaning and Transforming Characters.txt file**"
   ]
  },
  {
   "cell_type": "code",
   "execution_count": 20,
   "id": "a5369875-333a-4c3c-a6c6-aa9d291cd163",
   "metadata": {},
   "outputs": [
    {
     "name": "stdout",
     "output_type": "stream",
     "text": [
      "root\n",
      " |-- value: string (nullable = true)\n",
      "\n"
     ]
    }
   ],
   "source": [
    "characterdf.printSchema()"
   ]
  },
  {
   "cell_type": "code",
   "execution_count": 29,
   "id": "d0c45681-3a19-4fc3-ab89-8b1e71fcf48d",
   "metadata": {},
   "outputs": [
    {
     "data": {
      "text/plain": [
       "[Row(value='Vertex 1: 24-HOUR MAN/EMMANUEL'),\n",
       " Row(value='Vertex 2: 3-D MAN/CHARLES CHANDLER & HAROLD CHANDLER'),\n",
       " Row(value='Vertex 3: 4-D MAN/MERCURIO')]"
      ]
     },
     "execution_count": 29,
     "metadata": {},
     "output_type": "execute_result"
    }
   ],
   "source": [
    "characterdf.take(3)"
   ]
  },
  {
   "cell_type": "code",
   "execution_count": 32,
   "id": "cb31408c-10e0-4408-a484-c4d96dc47db1",
   "metadata": {},
   "outputs": [],
   "source": [
    "def characterParse(row):\n",
    "    row = row[0].split(\":\")\n",
    "    return ( row[0][7:], row[1].strip() )\n",
    "\n",
    "char_transform = characterdf.rdd.map(characterParse).collectAsMap()"
   ]
  },
  {
   "cell_type": "code",
   "execution_count": 34,
   "id": "8ac8f10e-7444-4f6a-a265-bec780b09cc2",
   "metadata": {},
   "outputs": [
    {
     "data": {
      "text/plain": [
       "6486"
      ]
     },
     "execution_count": 34,
     "metadata": {},
     "output_type": "execute_result"
    }
   ],
   "source": [
    "len(char_transform)"
   ]
  },
  {
   "cell_type": "markdown",
   "id": "6670de10-a0d7-45cc-8e89-5181632d3418",
   "metadata": {},
   "source": [
    " **Now to count the number of appearance of each character in the books, we need to group by key and count the length of column 2 (the book numbers in which the char appears)**"
   ]
  },
  {
   "cell_type": "code",
   "execution_count": 43,
   "id": "7c22cf62-d4f2-4ea6-8edb-246c30db0961",
   "metadata": {},
   "outputs": [],
   "source": [
    "#first count the appearance for each key which has maximum of 15 records \n",
    "#second map charactername with the length or count\n",
    "#third groupby /reducebyKey\n",
    "\n",
    "charstrength = edge_maped_charactr.mapValues(lambda x: len(x)).map(lambda x : (char_transform[x[0]],x[1])).reduceByKey(lambda x,y:x+y).sortBy(lambda x:-x[1])\n",
    "\n",
    "\n"
   ]
  },
  {
   "cell_type": "code",
   "execution_count": 45,
   "id": "f248e5c8-cabc-4c2f-95f5-ec7aff6c1779",
   "metadata": {},
   "outputs": [
    {
     "data": {
      "text/plain": [
       "[('SPIDER-MAN/PETER PARKER', 1625),\n",
       " ('CAPTAIN AMERICA', 1367),\n",
       " ('IRON MAN/TONY STARK', 1168),\n",
       " ('THING/BENJAMIN J. GRIMM', 990),\n",
       " ('THOR/DR. DONALD BLAKE/SIGURD JARLSON II/JAKE OLSON/LOREN OLSON', 965),\n",
       " ('HUMAN TORCH/JOHNNY STORM', 908),\n",
       " ('MR. FANTASTIC/REED RICHARDS', 875),\n",
       " ('HULK/DR. ROBERT BRUCE BANNER', 841),\n",
       " ('WOLVERINE/LOGAN', 820),\n",
       " ('INVISIBLE WOMAN/SUE STORM RICHARDS', 782)]"
      ]
     },
     "execution_count": 45,
     "metadata": {},
     "output_type": "execute_result"
    }
   ],
   "source": [
    "charstrength.take(10)"
   ]
  },
  {
   "cell_type": "code",
   "execution_count": 69,
   "id": "5ab5e586-eb90-443c-89e9-12744a15281e",
   "metadata": {},
   "outputs": [
    {
     "data": {
      "image/png": "[encoded data removed]",
      "text/plain": [
       "<Figure size 640x480 with 1 Axes>"
      ]
     },
     "metadata": {},
     "output_type": "display_data"
    }
   ],
   "source": [
    "import matplotlib.pyplot as plt\n",
    "\n",
    "# Get the top 10 characters by strength\n",
    "top_chars = charstrength.takeOrdered(10, key=lambda x: -x[1])\n",
    "\n",
    "# Extract the names and values\n",
    "names = [c[0] if len(c[0])<25 else (c[0][:25]+\"...\") for c in top_chars]\n",
    "values = [c[1] for c in top_chars]\n",
    "\n",
    "# Plot the histogram horizontally\n",
    "plt.barh(names, values)\n",
    "plt.xlabel(\"Strength\")\n",
    "plt.ylabel(\"Character Name\")\n",
    "plt.title(\"Top 10 Characters by Strength\")\n",
    "\n",
    "# Invert the y-axis to show names from top to bottom\n",
    "plt.gca().invert_yaxis()\n",
    "\n",
    "plt.show()\n",
    "\n",
    "\n",
    "\n",
    "\n",
    "\n",
    "\n"
   ]
  },
  {
   "cell_type": "code",
   "execution_count": null,
   "id": "43d7ad61-6a93-4849-8703-fa76d043dbdd",
   "metadata": {},
   "outputs": [],
   "source": []
  }
 ],
 "metadata": {
  "kernelspec": {
   "display_name": "Python 3 (ipykernel)",
   "language": "python",
   "name": "python3"
  },
  "language_info": {
   "codemirror_mode": {
    "name": "ipython",
    "version": 3
   },
   "file_extension": ".py",
   "mimetype": "text/x-python",
   "name": "python",
   "nbconvert_exporter": "python",
   "pygments_lexer": "ipython3",
   "version": "3.10.9"
  }
 },
 "nbformat": 4,
 "nbformat_minor": 5
}
